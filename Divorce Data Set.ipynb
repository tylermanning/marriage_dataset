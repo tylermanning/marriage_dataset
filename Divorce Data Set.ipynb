{
 "cells": [
  {
   "cell_type": "markdown",
   "metadata": {},
   "source": [
    "### Marriage Dissolution in the U.S.\n",
    "This dataset, adapted from an example in the software package aML, is based on a longitudinal survey conducted in the U.S.\n",
    "\n",
    "The dataset has 3771 couples and can be found here: http://data.princeton.edu/wws509/datasets/#divorce"
   ]
  },
  {
   "cell_type": "code",
   "execution_count": 15,
   "metadata": {
    "collapsed": false
   },
   "outputs": [
    {
     "name": "stderr",
     "output_type": "stream",
     "text": [
      "//anaconda/lib/python2.7/site-packages/matplotlib/font_manager.py:273: UserWarning: Matplotlib is building the font cache using fc-list. This may take a moment.\n",
      "  warnings.warn('Matplotlib is building the font cache using fc-list. This may take a moment.')\n"
     ]
    }
   ],
   "source": [
    "import pandas as pd\n",
    "import numpy as np\n",
    "import seaborn as sns"
   ]
  },
  {
   "cell_type": "code",
   "execution_count": 16,
   "metadata": {
    "collapsed": true
   },
   "outputs": [],
   "source": [
    "COL_NAMES = ['id','husb_educ','husb_black','mixed','years_married','divorced']"
   ]
  },
  {
   "cell_type": "code",
   "execution_count": 17,
   "metadata": {
    "collapsed": false
   },
   "outputs": [],
   "source": [
    "raw_data = pd.read_table('divorce.raw.txt', sep=\"\\s+\", names=COL_NAMES)"
   ]
  },
  {
   "cell_type": "markdown",
   "metadata": {},
   "source": [
    "### Data Description\n",
    "<p><b>id:</b> A couple number. Just a unique identifier</p>\n",
    "<p><b>husb_educ:</b> education of the husband, coded</p>\n",
    "<ul>\n",
    "<li>0 = less than 12 years (high school or less)</li>\n",
    "<li>1 = 12 to 15 years, and (some college, bachelor's degree)</li>\n",
    "<li>2 = 16 or more years. (graduate studies)</li>\n",
    "</ul>\n",
    "<p><b>husb_black:</b> coded 1 if the husband is black and 0 otherwise</p>\n",
    "<p><b>mixed:</b> coded 1 if the husband and wife have different ethnicity (defined as black or other), 0 otherwise.\n",
    "<p><b>years_married:</b> duration of marriage, from the date of wedding to divorce or censoring (due to widowhood or interview).</p>\n",
    "<p><b>divorced:</b> the failure indicator, coded 1 for divorce and 0 for censoring."
   ]
  },
  {
   "cell_type": "code",
   "execution_count": 18,
   "metadata": {
    "collapsed": false
   },
   "outputs": [
    {
     "data": {
      "text/html": [
       "<div>\n",
       "<table border=\"1\" class=\"dataframe\">\n",
       "  <thead>\n",
       "    <tr style=\"text-align: right;\">\n",
       "      <th></th>\n",
       "      <th>id</th>\n",
       "      <th>husb_educ</th>\n",
       "      <th>husb_black</th>\n",
       "      <th>mixed</th>\n",
       "      <th>years_married</th>\n",
       "      <th>divorced</th>\n",
       "    </tr>\n",
       "  </thead>\n",
       "  <tbody>\n",
       "    <tr>\n",
       "      <th>0</th>\n",
       "      <td>9</td>\n",
       "      <td>1</td>\n",
       "      <td>0</td>\n",
       "      <td>0</td>\n",
       "      <td>10.5460</td>\n",
       "      <td>0</td>\n",
       "    </tr>\n",
       "    <tr>\n",
       "      <th>1</th>\n",
       "      <td>11</td>\n",
       "      <td>0</td>\n",
       "      <td>0</td>\n",
       "      <td>0</td>\n",
       "      <td>34.9430</td>\n",
       "      <td>0</td>\n",
       "    </tr>\n",
       "    <tr>\n",
       "      <th>2</th>\n",
       "      <td>13</td>\n",
       "      <td>0</td>\n",
       "      <td>0</td>\n",
       "      <td>0</td>\n",
       "      <td>2.8340</td>\n",
       "      <td>1</td>\n",
       "    </tr>\n",
       "    <tr>\n",
       "      <th>3</th>\n",
       "      <td>15</td>\n",
       "      <td>0</td>\n",
       "      <td>0</td>\n",
       "      <td>0</td>\n",
       "      <td>17.5320</td>\n",
       "      <td>1</td>\n",
       "    </tr>\n",
       "    <tr>\n",
       "      <th>4</th>\n",
       "      <td>33</td>\n",
       "      <td>1</td>\n",
       "      <td>0</td>\n",
       "      <td>0</td>\n",
       "      <td>1.4180</td>\n",
       "      <td>0</td>\n",
       "    </tr>\n",
       "    <tr>\n",
       "      <th>5</th>\n",
       "      <td>36</td>\n",
       "      <td>0</td>\n",
       "      <td>0</td>\n",
       "      <td>0</td>\n",
       "      <td>48.0330</td>\n",
       "      <td>0</td>\n",
       "    </tr>\n",
       "    <tr>\n",
       "      <th>6</th>\n",
       "      <td>43</td>\n",
       "      <td>2</td>\n",
       "      <td>0</td>\n",
       "      <td>0</td>\n",
       "      <td>16.7060</td>\n",
       "      <td>0</td>\n",
       "    </tr>\n",
       "    <tr>\n",
       "      <th>7</th>\n",
       "      <td>47</td>\n",
       "      <td>0</td>\n",
       "      <td>0</td>\n",
       "      <td>0</td>\n",
       "      <td>24.9990</td>\n",
       "      <td>0</td>\n",
       "    </tr>\n",
       "    <tr>\n",
       "      <th>8</th>\n",
       "      <td>50</td>\n",
       "      <td>0</td>\n",
       "      <td>0</td>\n",
       "      <td>0</td>\n",
       "      <td>24.9990</td>\n",
       "      <td>0</td>\n",
       "    </tr>\n",
       "    <tr>\n",
       "      <th>9</th>\n",
       "      <td>56</td>\n",
       "      <td>0</td>\n",
       "      <td>1</td>\n",
       "      <td>0</td>\n",
       "      <td>3.8690</td>\n",
       "      <td>0</td>\n",
       "    </tr>\n",
       "    <tr>\n",
       "      <th>10</th>\n",
       "      <td>63</td>\n",
       "      <td>1</td>\n",
       "      <td>1</td>\n",
       "      <td>0</td>\n",
       "      <td>7.7320</td>\n",
       "      <td>0</td>\n",
       "    </tr>\n",
       "    <tr>\n",
       "      <th>11</th>\n",
       "      <td>66</td>\n",
       "      <td>1</td>\n",
       "      <td>0</td>\n",
       "      <td>0</td>\n",
       "      <td>5.2105</td>\n",
       "      <td>1</td>\n",
       "    </tr>\n",
       "    <tr>\n",
       "      <th>12</th>\n",
       "      <td>70</td>\n",
       "      <td>1</td>\n",
       "      <td>0</td>\n",
       "      <td>0</td>\n",
       "      <td>15.4440</td>\n",
       "      <td>0</td>\n",
       "    </tr>\n",
       "    <tr>\n",
       "      <th>13</th>\n",
       "      <td>77</td>\n",
       "      <td>2</td>\n",
       "      <td>0</td>\n",
       "      <td>0</td>\n",
       "      <td>4.0850</td>\n",
       "      <td>0</td>\n",
       "    </tr>\n",
       "    <tr>\n",
       "      <th>14</th>\n",
       "      <td>80</td>\n",
       "      <td>0</td>\n",
       "      <td>0</td>\n",
       "      <td>0</td>\n",
       "      <td>17.3330</td>\n",
       "      <td>0</td>\n",
       "    </tr>\n",
       "    <tr>\n",
       "      <th>15</th>\n",
       "      <td>84</td>\n",
       "      <td>1</td>\n",
       "      <td>0</td>\n",
       "      <td>0</td>\n",
       "      <td>16.3310</td>\n",
       "      <td>0</td>\n",
       "    </tr>\n",
       "    <tr>\n",
       "      <th>16</th>\n",
       "      <td>87</td>\n",
       "      <td>1</td>\n",
       "      <td>0</td>\n",
       "      <td>0</td>\n",
       "      <td>35.3350</td>\n",
       "      <td>0</td>\n",
       "    </tr>\n",
       "    <tr>\n",
       "      <th>17</th>\n",
       "      <td>90</td>\n",
       "      <td>0</td>\n",
       "      <td>0</td>\n",
       "      <td>0</td>\n",
       "      <td>37.6700</td>\n",
       "      <td>0</td>\n",
       "    </tr>\n",
       "    <tr>\n",
       "      <th>18</th>\n",
       "      <td>91</td>\n",
       "      <td>1</td>\n",
       "      <td>0</td>\n",
       "      <td>0</td>\n",
       "      <td>19.1865</td>\n",
       "      <td>1</td>\n",
       "    </tr>\n",
       "    <tr>\n",
       "      <th>19</th>\n",
       "      <td>94</td>\n",
       "      <td>1</td>\n",
       "      <td>0</td>\n",
       "      <td>0</td>\n",
       "      <td>22.6970</td>\n",
       "      <td>0</td>\n",
       "    </tr>\n",
       "    <tr>\n",
       "      <th>20</th>\n",
       "      <td>109</td>\n",
       "      <td>0</td>\n",
       "      <td>0</td>\n",
       "      <td>0</td>\n",
       "      <td>50.7760</td>\n",
       "      <td>0</td>\n",
       "    </tr>\n",
       "    <tr>\n",
       "      <th>21</th>\n",
       "      <td>111</td>\n",
       "      <td>0</td>\n",
       "      <td>0</td>\n",
       "      <td>0</td>\n",
       "      <td>37.4950</td>\n",
       "      <td>0</td>\n",
       "    </tr>\n",
       "    <tr>\n",
       "      <th>22</th>\n",
       "      <td>114</td>\n",
       "      <td>0</td>\n",
       "      <td>0</td>\n",
       "      <td>0</td>\n",
       "      <td>30.7380</td>\n",
       "      <td>0</td>\n",
       "    </tr>\n",
       "    <tr>\n",
       "      <th>23</th>\n",
       "      <td>116</td>\n",
       "      <td>0</td>\n",
       "      <td>0</td>\n",
       "      <td>0</td>\n",
       "      <td>48.6540</td>\n",
       "      <td>0</td>\n",
       "    </tr>\n",
       "    <tr>\n",
       "      <th>24</th>\n",
       "      <td>118</td>\n",
       "      <td>0</td>\n",
       "      <td>0</td>\n",
       "      <td>0</td>\n",
       "      <td>33.0240</td>\n",
       "      <td>0</td>\n",
       "    </tr>\n",
       "    <tr>\n",
       "      <th>25</th>\n",
       "      <td>120</td>\n",
       "      <td>0</td>\n",
       "      <td>0</td>\n",
       "      <td>0</td>\n",
       "      <td>36.6680</td>\n",
       "      <td>0</td>\n",
       "    </tr>\n",
       "    <tr>\n",
       "      <th>26</th>\n",
       "      <td>122</td>\n",
       "      <td>2</td>\n",
       "      <td>0</td>\n",
       "      <td>0</td>\n",
       "      <td>27.9920</td>\n",
       "      <td>0</td>\n",
       "    </tr>\n",
       "    <tr>\n",
       "      <th>27</th>\n",
       "      <td>124</td>\n",
       "      <td>2</td>\n",
       "      <td>0</td>\n",
       "      <td>0</td>\n",
       "      <td>27.7890</td>\n",
       "      <td>0</td>\n",
       "    </tr>\n",
       "    <tr>\n",
       "      <th>28</th>\n",
       "      <td>128</td>\n",
       "      <td>1</td>\n",
       "      <td>0</td>\n",
       "      <td>0</td>\n",
       "      <td>3.2525</td>\n",
       "      <td>1</td>\n",
       "    </tr>\n",
       "    <tr>\n",
       "      <th>29</th>\n",
       "      <td>129</td>\n",
       "      <td>1</td>\n",
       "      <td>0</td>\n",
       "      <td>0</td>\n",
       "      <td>5.6700</td>\n",
       "      <td>1</td>\n",
       "    </tr>\n",
       "    <tr>\n",
       "      <th>...</th>\n",
       "      <td>...</td>\n",
       "      <td>...</td>\n",
       "      <td>...</td>\n",
       "      <td>...</td>\n",
       "      <td>...</td>\n",
       "      <td>...</td>\n",
       "    </tr>\n",
       "    <tr>\n",
       "      <th>3341</th>\n",
       "      <td>17136</td>\n",
       "      <td>0</td>\n",
       "      <td>1</td>\n",
       "      <td>1</td>\n",
       "      <td>51.6660</td>\n",
       "      <td>0</td>\n",
       "    </tr>\n",
       "    <tr>\n",
       "      <th>3342</th>\n",
       "      <td>17141</td>\n",
       "      <td>1</td>\n",
       "      <td>1</td>\n",
       "      <td>0</td>\n",
       "      <td>17.0130</td>\n",
       "      <td>0</td>\n",
       "    </tr>\n",
       "    <tr>\n",
       "      <th>3343</th>\n",
       "      <td>17144</td>\n",
       "      <td>1</td>\n",
       "      <td>0</td>\n",
       "      <td>1</td>\n",
       "      <td>28.3700</td>\n",
       "      <td>0</td>\n",
       "    </tr>\n",
       "    <tr>\n",
       "      <th>3344</th>\n",
       "      <td>17148</td>\n",
       "      <td>0</td>\n",
       "      <td>1</td>\n",
       "      <td>1</td>\n",
       "      <td>4.3180</td>\n",
       "      <td>0</td>\n",
       "    </tr>\n",
       "    <tr>\n",
       "      <th>3345</th>\n",
       "      <td>17157</td>\n",
       "      <td>1</td>\n",
       "      <td>0</td>\n",
       "      <td>1</td>\n",
       "      <td>6.4175</td>\n",
       "      <td>1</td>\n",
       "    </tr>\n",
       "    <tr>\n",
       "      <th>3346</th>\n",
       "      <td>17162</td>\n",
       "      <td>1</td>\n",
       "      <td>1</td>\n",
       "      <td>0</td>\n",
       "      <td>1.2270</td>\n",
       "      <td>0</td>\n",
       "    </tr>\n",
       "    <tr>\n",
       "      <th>3347</th>\n",
       "      <td>17163</td>\n",
       "      <td>0</td>\n",
       "      <td>1</td>\n",
       "      <td>0</td>\n",
       "      <td>0.9860</td>\n",
       "      <td>0</td>\n",
       "    </tr>\n",
       "    <tr>\n",
       "      <th>3348</th>\n",
       "      <td>17173</td>\n",
       "      <td>0</td>\n",
       "      <td>1</td>\n",
       "      <td>0</td>\n",
       "      <td>7.0970</td>\n",
       "      <td>0</td>\n",
       "    </tr>\n",
       "    <tr>\n",
       "      <th>3349</th>\n",
       "      <td>17175</td>\n",
       "      <td>0</td>\n",
       "      <td>0</td>\n",
       "      <td>1</td>\n",
       "      <td>36.9885</td>\n",
       "      <td>1</td>\n",
       "    </tr>\n",
       "    <tr>\n",
       "      <th>3350</th>\n",
       "      <td>17180</td>\n",
       "      <td>1</td>\n",
       "      <td>1</td>\n",
       "      <td>0</td>\n",
       "      <td>12.9450</td>\n",
       "      <td>0</td>\n",
       "    </tr>\n",
       "    <tr>\n",
       "      <th>3351</th>\n",
       "      <td>17190</td>\n",
       "      <td>0</td>\n",
       "      <td>1</td>\n",
       "      <td>1</td>\n",
       "      <td>1.9660</td>\n",
       "      <td>1</td>\n",
       "    </tr>\n",
       "    <tr>\n",
       "      <th>3352</th>\n",
       "      <td>17211</td>\n",
       "      <td>1</td>\n",
       "      <td>0</td>\n",
       "      <td>0</td>\n",
       "      <td>2.9130</td>\n",
       "      <td>0</td>\n",
       "    </tr>\n",
       "    <tr>\n",
       "      <th>3353</th>\n",
       "      <td>17219</td>\n",
       "      <td>0</td>\n",
       "      <td>0</td>\n",
       "      <td>1</td>\n",
       "      <td>31.5670</td>\n",
       "      <td>0</td>\n",
       "    </tr>\n",
       "    <tr>\n",
       "      <th>3354</th>\n",
       "      <td>17226</td>\n",
       "      <td>0</td>\n",
       "      <td>1</td>\n",
       "      <td>1</td>\n",
       "      <td>4.1560</td>\n",
       "      <td>1</td>\n",
       "    </tr>\n",
       "    <tr>\n",
       "      <th>3355</th>\n",
       "      <td>17229</td>\n",
       "      <td>0</td>\n",
       "      <td>1</td>\n",
       "      <td>0</td>\n",
       "      <td>16.4340</td>\n",
       "      <td>1</td>\n",
       "    </tr>\n",
       "    <tr>\n",
       "      <th>3356</th>\n",
       "      <td>17231</td>\n",
       "      <td>1</td>\n",
       "      <td>1</td>\n",
       "      <td>0</td>\n",
       "      <td>6.3820</td>\n",
       "      <td>1</td>\n",
       "    </tr>\n",
       "    <tr>\n",
       "      <th>3357</th>\n",
       "      <td>17233</td>\n",
       "      <td>0</td>\n",
       "      <td>1</td>\n",
       "      <td>0</td>\n",
       "      <td>19.0030</td>\n",
       "      <td>0</td>\n",
       "    </tr>\n",
       "    <tr>\n",
       "      <th>3358</th>\n",
       "      <td>17237</td>\n",
       "      <td>0</td>\n",
       "      <td>1</td>\n",
       "      <td>0</td>\n",
       "      <td>33.6510</td>\n",
       "      <td>0</td>\n",
       "    </tr>\n",
       "    <tr>\n",
       "      <th>3359</th>\n",
       "      <td>17242</td>\n",
       "      <td>0</td>\n",
       "      <td>0</td>\n",
       "      <td>1</td>\n",
       "      <td>27.2640</td>\n",
       "      <td>0</td>\n",
       "    </tr>\n",
       "    <tr>\n",
       "      <th>3360</th>\n",
       "      <td>17249</td>\n",
       "      <td>0</td>\n",
       "      <td>0</td>\n",
       "      <td>1</td>\n",
       "      <td>6.3190</td>\n",
       "      <td>0</td>\n",
       "    </tr>\n",
       "    <tr>\n",
       "      <th>3361</th>\n",
       "      <td>17255</td>\n",
       "      <td>1</td>\n",
       "      <td>1</td>\n",
       "      <td>0</td>\n",
       "      <td>13.4150</td>\n",
       "      <td>0</td>\n",
       "    </tr>\n",
       "    <tr>\n",
       "      <th>3362</th>\n",
       "      <td>17264</td>\n",
       "      <td>1</td>\n",
       "      <td>0</td>\n",
       "      <td>1</td>\n",
       "      <td>4.4570</td>\n",
       "      <td>0</td>\n",
       "    </tr>\n",
       "    <tr>\n",
       "      <th>3363</th>\n",
       "      <td>17271</td>\n",
       "      <td>0</td>\n",
       "      <td>1</td>\n",
       "      <td>1</td>\n",
       "      <td>0.4440</td>\n",
       "      <td>0</td>\n",
       "    </tr>\n",
       "    <tr>\n",
       "      <th>3364</th>\n",
       "      <td>17272</td>\n",
       "      <td>2</td>\n",
       "      <td>1</td>\n",
       "      <td>0</td>\n",
       "      <td>8.5855</td>\n",
       "      <td>1</td>\n",
       "    </tr>\n",
       "    <tr>\n",
       "      <th>3365</th>\n",
       "      <td>17275</td>\n",
       "      <td>1</td>\n",
       "      <td>0</td>\n",
       "      <td>1</td>\n",
       "      <td>15.8280</td>\n",
       "      <td>0</td>\n",
       "    </tr>\n",
       "    <tr>\n",
       "      <th>3366</th>\n",
       "      <td>17280</td>\n",
       "      <td>1</td>\n",
       "      <td>1</td>\n",
       "      <td>1</td>\n",
       "      <td>17.1440</td>\n",
       "      <td>0</td>\n",
       "    </tr>\n",
       "    <tr>\n",
       "      <th>3367</th>\n",
       "      <td>17283</td>\n",
       "      <td>0</td>\n",
       "      <td>0</td>\n",
       "      <td>1</td>\n",
       "      <td>44.7470</td>\n",
       "      <td>0</td>\n",
       "    </tr>\n",
       "    <tr>\n",
       "      <th>3368</th>\n",
       "      <td>17290</td>\n",
       "      <td>0</td>\n",
       "      <td>1</td>\n",
       "      <td>0</td>\n",
       "      <td>4.3720</td>\n",
       "      <td>0</td>\n",
       "    </tr>\n",
       "    <tr>\n",
       "      <th>3369</th>\n",
       "      <td>17294</td>\n",
       "      <td>1</td>\n",
       "      <td>1</td>\n",
       "      <td>0</td>\n",
       "      <td>7.2690</td>\n",
       "      <td>0</td>\n",
       "    </tr>\n",
       "    <tr>\n",
       "      <th>3370</th>\n",
       "      <td>17302</td>\n",
       "      <td>1</td>\n",
       "      <td>0</td>\n",
       "      <td>1</td>\n",
       "      <td>18.7300</td>\n",
       "      <td>0</td>\n",
       "    </tr>\n",
       "  </tbody>\n",
       "</table>\n",
       "<p>3371 rows × 6 columns</p>\n",
       "</div>"
      ],
      "text/plain": [
       "         id  husb_educ  husb_black  mixed  years_married  divorced\n",
       "0         9          1           0      0        10.5460         0\n",
       "1        11          0           0      0        34.9430         0\n",
       "2        13          0           0      0         2.8340         1\n",
       "3        15          0           0      0        17.5320         1\n",
       "4        33          1           0      0         1.4180         0\n",
       "5        36          0           0      0        48.0330         0\n",
       "6        43          2           0      0        16.7060         0\n",
       "7        47          0           0      0        24.9990         0\n",
       "8        50          0           0      0        24.9990         0\n",
       "9        56          0           1      0         3.8690         0\n",
       "10       63          1           1      0         7.7320         0\n",
       "11       66          1           0      0         5.2105         1\n",
       "12       70          1           0      0        15.4440         0\n",
       "13       77          2           0      0         4.0850         0\n",
       "14       80          0           0      0        17.3330         0\n",
       "15       84          1           0      0        16.3310         0\n",
       "16       87          1           0      0        35.3350         0\n",
       "17       90          0           0      0        37.6700         0\n",
       "18       91          1           0      0        19.1865         1\n",
       "19       94          1           0      0        22.6970         0\n",
       "20      109          0           0      0        50.7760         0\n",
       "21      111          0           0      0        37.4950         0\n",
       "22      114          0           0      0        30.7380         0\n",
       "23      116          0           0      0        48.6540         0\n",
       "24      118          0           0      0        33.0240         0\n",
       "25      120          0           0      0        36.6680         0\n",
       "26      122          2           0      0        27.9920         0\n",
       "27      124          2           0      0        27.7890         0\n",
       "28      128          1           0      0         3.2525         1\n",
       "29      129          1           0      0         5.6700         1\n",
       "...     ...        ...         ...    ...            ...       ...\n",
       "3341  17136          0           1      1        51.6660         0\n",
       "3342  17141          1           1      0        17.0130         0\n",
       "3343  17144          1           0      1        28.3700         0\n",
       "3344  17148          0           1      1         4.3180         0\n",
       "3345  17157          1           0      1         6.4175         1\n",
       "3346  17162          1           1      0         1.2270         0\n",
       "3347  17163          0           1      0         0.9860         0\n",
       "3348  17173          0           1      0         7.0970         0\n",
       "3349  17175          0           0      1        36.9885         1\n",
       "3350  17180          1           1      0        12.9450         0\n",
       "3351  17190          0           1      1         1.9660         1\n",
       "3352  17211          1           0      0         2.9130         0\n",
       "3353  17219          0           0      1        31.5670         0\n",
       "3354  17226          0           1      1         4.1560         1\n",
       "3355  17229          0           1      0        16.4340         1\n",
       "3356  17231          1           1      0         6.3820         1\n",
       "3357  17233          0           1      0        19.0030         0\n",
       "3358  17237          0           1      0        33.6510         0\n",
       "3359  17242          0           0      1        27.2640         0\n",
       "3360  17249          0           0      1         6.3190         0\n",
       "3361  17255          1           1      0        13.4150         0\n",
       "3362  17264          1           0      1         4.4570         0\n",
       "3363  17271          0           1      1         0.4440         0\n",
       "3364  17272          2           1      0         8.5855         1\n",
       "3365  17275          1           0      1        15.8280         0\n",
       "3366  17280          1           1      1        17.1440         0\n",
       "3367  17283          0           0      1        44.7470         0\n",
       "3368  17290          0           1      0         4.3720         0\n",
       "3369  17294          1           1      0         7.2690         0\n",
       "3370  17302          1           0      1        18.7300         0\n",
       "\n",
       "[3371 rows x 6 columns]"
      ]
     },
     "execution_count": 18,
     "metadata": {},
     "output_type": "execute_result"
    }
   ],
   "source": [
    "raw_data"
   ]
  },
  {
   "cell_type": "code",
   "execution_count": 19,
   "metadata": {
    "collapsed": false
   },
   "outputs": [
    {
     "data": {
      "text/html": [
       "<div>\n",
       "<table border=\"1\" class=\"dataframe\">\n",
       "  <thead>\n",
       "    <tr style=\"text-align: right;\">\n",
       "      <th></th>\n",
       "      <th>id</th>\n",
       "      <th>husb_educ</th>\n",
       "      <th>husb_black</th>\n",
       "      <th>mixed</th>\n",
       "      <th>years_married</th>\n",
       "      <th>divorced</th>\n",
       "    </tr>\n",
       "  </thead>\n",
       "  <tbody>\n",
       "    <tr>\n",
       "      <th>count</th>\n",
       "      <td>3371.000000</td>\n",
       "      <td>3371.000000</td>\n",
       "      <td>3371.000000</td>\n",
       "      <td>3371.000000</td>\n",
       "      <td>3371.000000</td>\n",
       "      <td>3371.000000</td>\n",
       "    </tr>\n",
       "    <tr>\n",
       "      <th>mean</th>\n",
       "      <td>7761.646989</td>\n",
       "      <td>0.744883</td>\n",
       "      <td>0.221003</td>\n",
       "      <td>0.190151</td>\n",
       "      <td>18.410089</td>\n",
       "      <td>0.306141</td>\n",
       "    </tr>\n",
       "    <tr>\n",
       "      <th>std</th>\n",
       "      <td>4959.523412</td>\n",
       "      <td>0.666404</td>\n",
       "      <td>0.414984</td>\n",
       "      <td>0.392479</td>\n",
       "      <td>14.901191</td>\n",
       "      <td>0.460957</td>\n",
       "    </tr>\n",
       "    <tr>\n",
       "      <th>min</th>\n",
       "      <td>9.000000</td>\n",
       "      <td>0.000000</td>\n",
       "      <td>0.000000</td>\n",
       "      <td>0.000000</td>\n",
       "      <td>0.079000</td>\n",
       "      <td>0.000000</td>\n",
       "    </tr>\n",
       "    <tr>\n",
       "      <th>25%</th>\n",
       "      <td>3571.500000</td>\n",
       "      <td>0.000000</td>\n",
       "      <td>0.000000</td>\n",
       "      <td>0.000000</td>\n",
       "      <td>6.484750</td>\n",
       "      <td>0.000000</td>\n",
       "    </tr>\n",
       "    <tr>\n",
       "      <th>50%</th>\n",
       "      <td>7130.000000</td>\n",
       "      <td>1.000000</td>\n",
       "      <td>0.000000</td>\n",
       "      <td>0.000000</td>\n",
       "      <td>14.497000</td>\n",
       "      <td>0.000000</td>\n",
       "    </tr>\n",
       "    <tr>\n",
       "      <th>75%</th>\n",
       "      <td>11908.000000</td>\n",
       "      <td>1.000000</td>\n",
       "      <td>0.000000</td>\n",
       "      <td>0.000000</td>\n",
       "      <td>26.141000</td>\n",
       "      <td>1.000000</td>\n",
       "    </tr>\n",
       "    <tr>\n",
       "      <th>max</th>\n",
       "      <td>17302.000000</td>\n",
       "      <td>2.000000</td>\n",
       "      <td>1.000000</td>\n",
       "      <td>1.000000</td>\n",
       "      <td>73.068000</td>\n",
       "      <td>1.000000</td>\n",
       "    </tr>\n",
       "  </tbody>\n",
       "</table>\n",
       "</div>"
      ],
      "text/plain": [
       "                 id    husb_educ   husb_black        mixed  years_married  \\\n",
       "count   3371.000000  3371.000000  3371.000000  3371.000000    3371.000000   \n",
       "mean    7761.646989     0.744883     0.221003     0.190151      18.410089   \n",
       "std     4959.523412     0.666404     0.414984     0.392479      14.901191   \n",
       "min        9.000000     0.000000     0.000000     0.000000       0.079000   \n",
       "25%     3571.500000     0.000000     0.000000     0.000000       6.484750   \n",
       "50%     7130.000000     1.000000     0.000000     0.000000      14.497000   \n",
       "75%    11908.000000     1.000000     0.000000     0.000000      26.141000   \n",
       "max    17302.000000     2.000000     1.000000     1.000000      73.068000   \n",
       "\n",
       "          divorced  \n",
       "count  3371.000000  \n",
       "mean      0.306141  \n",
       "std       0.460957  \n",
       "min       0.000000  \n",
       "25%       0.000000  \n",
       "50%       0.000000  \n",
       "75%       1.000000  \n",
       "max       1.000000  "
      ]
     },
     "execution_count": 19,
     "metadata": {},
     "output_type": "execute_result"
    }
   ],
   "source": [
    "raw_data.describe()"
   ]
  },
  {
   "cell_type": "code",
   "execution_count": 20,
   "metadata": {
    "collapsed": true
   },
   "outputs": [],
   "source": [
    "# Print the graph here in the notebook instead of a pop-up window\n",
    "%matplotlib inline\n",
    "\n",
    "import matplotlib.pyplot as plt\n",
    "\n",
    "# Plotting function takes strings: axis names, title and a plot to apply them\n",
    "def plotting(x_label, y_label, title, plot):\n",
    "    plot.set_xlabel(x_label, fontsize=16)\n",
    "    plot.set_ylabel(y_label, fontsize=16)\n",
    "    plot.set_title(title, fontsize=18)\n",
    "    plt.show()"
   ]
  },
  {
   "cell_type": "code",
   "execution_count": 21,
   "metadata": {
    "collapsed": false
   },
   "outputs": [
    {
     "data": {
      "image/png": "[encoded data removed]",
      "text/plain": [
       "<matplotlib.figure.Figure at 0x11648c350>"
      ]
     },
     "metadata": {},
     "output_type": "display_data"
    }
   ],
   "source": [
    "# Firstly, let's plot a simple distribution of how many people survived\n",
    "plotting('Number of Couples', '1 = Divorced, 0 = Censored', \"Distribution of Divorce\", \n",
    "         raw_data['divorced'].value_counts().plot(kind='barh', alpha = 0.45, figsize=(14,6)))"
   ]
  },
  {
   "cell_type": "code",
   "execution_count": 22,
   "metadata": {
    "collapsed": false
   },
   "outputs": [
    {
     "data": {
      "image/png": "[encoded data removed]",
      "text/plain": [
       "<matplotlib.figure.Figure at 0x118901a90>"
      ]
     },
     "metadata": {},
     "output_type": "display_data"
    }
   ],
   "source": [
    "# Plot a kernel desnsity graph where we array index the Age column according to the different classes\n",
    "plotting(\"Years Married\", \"Density\", \"Marriage Lengths Distribution\", raw_data['years_married'].hist(figsize=(15,6)) )"
   ]
  },
  {
   "cell_type": "code",
   "execution_count": 23,
   "metadata": {
    "collapsed": false
   },
   "outputs": [
    {
     "data": {
      "image/png": "[encoded data removed]",
      "text/plain": [
       "<matplotlib.figure.Figure at 0x1188ed950>"
      ]
     },
     "metadata": {},
     "output_type": "display_data"
    }
   ],
   "source": [
    "# Plot a kernel desnsity graph where we array index the Years Married column according to the different classes\n",
    "plot1 = raw_data['years_married'][raw_data['husb_educ']== 0].plot.kde(figsize=(15,6))\n",
    "plot2 = raw_data['years_married'][raw_data['husb_educ']== 1].plot.kde(figsize=(15,6))\n",
    "plot3 = raw_data['years_married'][raw_data['husb_educ']== 2].plot.kde(figsize=(15,6))\n",
    "\n",
    "# Add legend identifying the different curves\n",
    "plt.legend(('< High School', 'Some College','Graduate Studies'),loc='best') \n",
    "\n",
    "# Note this function is called simply to add graph labels in this instance\n",
    "plotting(\"Years Married\", \"Density\", \"Years Married by Educational Background\", plot1 )"
   ]
  },
  {
   "cell_type": "markdown",
   "metadata": {},
   "source": [
    "Interestingly, it looks like the education of the father doesn't significantly impact the chance of a major lasting longer than less educated husbands. The data peaks within the first 10 years for all educational backgrounds, and diminishes over time."
   ]
  },
  {
   "cell_type": "code",
   "execution_count": 24,
   "metadata": {
    "collapsed": false
   },
   "outputs": [
    {
     "data": {
      "image/png": "[encoded data removed]",
      "text/plain": [
       "<matplotlib.figure.Figure at 0x1164af610>"
      ]
     },
     "metadata": {},
     "output_type": "display_data"
    }
   ],
   "source": [
    "# Cross tabulate the Divorced couples betwen the husband's education & the interracial identifier\n",
    "# Note raw_sex is used here so male/female text would appear on graph\n",
    "multivari = pd.crosstab([raw_data[\"husb_educ\"], raw_data[\"mixed\"]], raw_data[\"divorced\"])\n",
    "\n",
    "# Plot these data sets, stacking survival\n",
    "plotting(\"1 = < Highschool,  2 = Some College, 3 = Graduate Studies\", \n",
    "        \"Divorced\", \"Divorce Distribution Among Educational Background & Mixed Marriage\",\n",
    "        multivari.plot(kind='bar', stacked=True, color=['firebrick', 'navy'], figsize=(15,6)))"
   ]
  },
  {
   "cell_type": "markdown",
   "metadata": {},
   "source": [
    "## Predictive Analysis"
   ]
  },
  {
   "cell_type": "code",
   "execution_count": 25,
   "metadata": {
    "collapsed": true
   },
   "outputs": [],
   "source": [
    "predictors_all = ['husb_educ', 'husb_black', 'mixed', 'years_married']"
   ]
  },
  {
   "cell_type": "code",
   "execution_count": 26,
   "metadata": {
    "collapsed": false
   },
   "outputs": [
    {
     "data": {
      "text/plain": [
       "0    2339\n",
       "1    1032\n",
       "Name: divorced, dtype: int64"
      ]
     },
     "execution_count": 26,
     "metadata": {},
     "output_type": "execute_result"
    }
   ],
   "source": [
    "raw_data['divorced'].value_counts()"
   ]
  },
  {
   "cell_type": "code",
   "execution_count": 27,
   "metadata": {
    "collapsed": false
   },
   "outputs": [
    {
     "data": {
      "text/plain": [
       "0    0.693859\n",
       "1    0.306141\n",
       "Name: divorced, dtype: float64"
      ]
     },
     "execution_count": 27,
     "metadata": {},
     "output_type": "execute_result"
    }
   ],
   "source": [
    "raw_data['divorced'].value_counts() / 3371"
   ]
  },
  {
   "cell_type": "markdown",
   "metadata": {},
   "source": [
    "30% of couples divorced on average, meaning if we always predict no couple will ever divorce, we'd be right about 70% of the time. This  is the <em><b>null error rate.</b></em> This is how often we'd be wrong if we always predict the majority class which in our case is \"not divorced\" for our dependent variable. We'll use this as our benchmark or jumping off point for our prediction model."
   ]
  },
  {
   "cell_type": "markdown",
   "metadata": {
    "collapsed": true
   },
   "source": [
    "#### NOTE: in this case, since the output class is a 0/1 binary result, we could have simply caluclated the mean to help us get the null error rate:"
   ]
  },
  {
   "cell_type": "code",
   "execution_count": 28,
   "metadata": {
    "collapsed": false
   },
   "outputs": [
    {
     "data": {
      "text/plain": [
       "0.3061406110946307"
      ]
     },
     "execution_count": 28,
     "metadata": {},
     "output_type": "execute_result"
    }
   ],
   "source": [
    "raw_data['divorced'].mean()"
   ]
  },
  {
   "cell_type": "code",
   "execution_count": 29,
   "metadata": {
    "collapsed": false
   },
   "outputs": [],
   "source": [
    "def sigmoid(z):\n",
    "    return 1 / (1 + np.exp(-z))"
   ]
  },
  {
   "cell_type": "code",
   "execution_count": 30,
   "metadata": {
    "collapsed": false
   },
   "outputs": [
    {
     "data": {
      "text/plain": [
       "0.5"
      ]
     },
     "execution_count": 30,
     "metadata": {},
     "output_type": "execute_result"
    }
   ],
   "source": [
    "sigmoid(-0)"
   ]
  },
  {
   "cell_type": "code",
   "execution_count": 31,
   "metadata": {
    "collapsed": false
   },
   "outputs": [
    {
     "data": {
      "image/png": "[encoded data removed]",
      "text/plain": [
       "<matplotlib.figure.Figure at 0x118f90650>"
      ]
     },
     "metadata": {},
     "output_type": "display_data"
    }
   ],
   "source": [
    "import matplotlib.pyplot as plt\n",
    "plt.plot([-5,-1,0,1,5], [sigmoid(-5),sigmoid(-1),sigmoid(0),sigmoid(1),sigmoid(5)], 'ro')\n",
    "plt.axis([-10, 10, 0, 1])\n",
    "plt.show()"
   ]
  },
  {
   "cell_type": "code",
   "execution_count": 40,
   "metadata": {
    "collapsed": false
   },
   "outputs": [
    {
     "name": "stdout",
     "output_type": "stream",
     "text": [
      "      husb_educ  husb_black  mixed  years_married\n",
      "0             1           0      0        10.5460\n",
      "1             0           0      0        34.9430\n",
      "2             0           0      0         2.8340\n",
      "3             0           0      0        17.5320\n",
      "4             1           0      0         1.4180\n",
      "5             0           0      0        48.0330\n",
      "6             2           0      0        16.7060\n",
      "7             0           0      0        24.9990\n",
      "8             0           0      0        24.9990\n",
      "9             0           1      0         3.8690\n",
      "10            1           1      0         7.7320\n",
      "11            1           0      0         5.2105\n",
      "12            1           0      0        15.4440\n",
      "13            2           0      0         4.0850\n",
      "14            0           0      0        17.3330\n",
      "15            1           0      0        16.3310\n",
      "16            1           0      0        35.3350\n",
      "17            0           0      0        37.6700\n",
      "18            1           0      0        19.1865\n",
      "19            1           0      0        22.6970\n",
      "20            0           0      0        50.7760\n",
      "21            0           0      0        37.4950\n",
      "22            0           0      0        30.7380\n",
      "23            0           0      0        48.6540\n",
      "24            0           0      0        33.0240\n",
      "25            0           0      0        36.6680\n",
      "26            2           0      0        27.9920\n",
      "27            2           0      0        27.7890\n",
      "28            1           0      0         3.2525\n",
      "29            1           0      0         5.6700\n",
      "...         ...         ...    ...            ...\n",
      "3341          0           1      1        51.6660\n",
      "3342          1           1      0        17.0130\n",
      "3343          1           0      1        28.3700\n",
      "3344          0           1      1         4.3180\n",
      "3345          1           0      1         6.4175\n",
      "3346          1           1      0         1.2270\n",
      "3347          0           1      0         0.9860\n",
      "3348          0           1      0         7.0970\n",
      "3349          0           0      1        36.9885\n",
      "3350          1           1      0        12.9450\n",
      "3351          0           1      1         1.9660\n",
      "3352          1           0      0         2.9130\n",
      "3353          0           0      1        31.5670\n",
      "3354          0           1      1         4.1560\n",
      "3355          0           1      0        16.4340\n",
      "3356          1           1      0         6.3820\n",
      "3357          0           1      0        19.0030\n",
      "3358          0           1      0        33.6510\n",
      "3359          0           0      1        27.2640\n",
      "3360          0           0      1         6.3190\n",
      "3361          1           1      0        13.4150\n",
      "3362          1           0      1         4.4570\n",
      "3363          0           1      1         0.4440\n",
      "3364          2           1      0         8.5855\n",
      "3365          1           0      1        15.8280\n",
      "3366          1           1      1        17.1440\n",
      "3367          0           0      1        44.7470\n",
      "3368          0           1      0         4.3720\n",
      "3369          1           1      0         7.2690\n",
      "3370          1           0      1        18.7300\n",
      "\n",
      "[3371 rows x 4 columns]\n"
     ]
    }
   ],
   "source": [
    "# Initialize our coefficients\n",
    "[beta0, beta1, beta2, beta3, beta4] = [1]*5\n",
    "beta_vector = [beta0, beta1, beta2, beta3, beta4]\n",
    "\n",
    "#Initialize the learning rate, alpha, a general starting point can be from 0.1 to 0.3\n",
    "alpha = 0.3\n",
    "\n",
    "training_examples = raw_data.ix[:,1:5].copy()\n",
    "labels = raw_data['divorced'].copy()\n",
    "\n",
    "print training_examples"
   ]
  },
  {
   "cell_type": "code",
   "execution_count": 63,
   "metadata": {
    "collapsed": false
   },
   "outputs": [],
   "source": [
    "def stochastic_gradient_ascent(learning_rate, X, Y):\n",
    "    m,n = np.shape(X)\n",
    "    coefficients = np.ones(n)\n",
    "    \n",
    "    for i in range(m):\n",
    "        h = sigmoid(np.dot(X.iloc[i],coefficients))\n",
    "        error = Y[i] - h\n",
    "        coefficients = coefficients + learning_rate * error * X.iloc[i]\n",
    "    return coefficients"
   ]
  },
  {
   "cell_type": "code",
   "execution_count": 66,
   "metadata": {
    "collapsed": false
   },
   "outputs": [],
   "source": [
    "beta_vector = stochastic_gradient_ascent(alpha, training_examples, labels)"
   ]
  },
  {
   "cell_type": "code",
   "execution_count": 67,
   "metadata": {
    "collapsed": false
   },
   "outputs": [
    {
     "data": {
      "text/plain": [
       "husb_educ        1.863053\n",
       "husb_black      -0.057058\n",
       "mixed            8.016835\n",
       "years_married   -1.001869\n",
       "dtype: float64"
      ]
     },
     "execution_count": 67,
     "metadata": {},
     "output_type": "execute_result"
    }
   ],
   "source": [
    "beta_vector"
   ]
  },
  {
   "cell_type": "code",
   "execution_count": null,
   "metadata": {
    "collapsed": true
   },
   "outputs": [],
   "source": []
  }
 ],
 "metadata": {
  "kernelspec": {
   "display_name": "Python 2",
   "language": "python",
   "name": "python2"
  },
  "language_info": {
   "codemirror_mode": {
    "name": "ipython",
    "version": 2
   },
   "file_extension": ".py",
   "mimetype": "text/x-python",
   "name": "python",
   "nbconvert_exporter": "python",
   "pygments_lexer": "ipython2",
   "version": "2.7.11"
  }
 },
 "nbformat": 4,
 "nbformat_minor": 0
}
